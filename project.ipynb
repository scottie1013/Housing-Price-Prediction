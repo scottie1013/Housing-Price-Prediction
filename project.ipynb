{
  "nbformat": 4,
  "nbformat_minor": 0,
  "metadata": {
    "colab": {
      "provenance": [],
      "authorship_tag": "ABX9TyMbhmT1Xi5UUFfmLDEoMrR6",
      "include_colab_link": true
    },
    "kernelspec": {
      "name": "python3",
      "display_name": "Python 3"
    },
    "language_info": {
      "name": "python"
    }
  },
  "cells": [
    {
      "cell_type": "markdown",
      "metadata": {
        "id": "view-in-github",
        "colab_type": "text"
      },
      "source": [
        "<a href=\"https://colab.research.google.com/github/scottie1013/Housing-Price-Prediction/blob/main/project.ipynb\" target=\"_parent\"><img src=\"https://colab.research.google.com/assets/colab-badge.svg\" alt=\"Open In Colab\"/></a>"
      ]
    },
    {
      "cell_type": "markdown",
      "source": [
        "#Kaggle House Price Prediction"
      ],
      "metadata": {
        "id": "3w89SQv6EovF"
      }
    },
    {
      "cell_type": "code",
      "execution_count": null,
      "metadata": {
        "id": "mGWRFfg6CigS"
      },
      "outputs": [],
      "source": [
        "import pandas as pd\n",
        "import matplotlib.pyplot as plt\n",
        "import seaborn as sns\n",
        "import numpy as np\n",
        "from scipy.stats import norm \n",
        "from sklearn.preprocessing import StandardScaler\n",
        "from scipy import stats\n",
        "%matplotlib inline"
      ]
    },
    {
      "cell_type": "code",
      "source": [
        "df_train = pd.read_csv('train.csv')"
      ],
      "metadata": {
        "id": "HcZMH2e5Dnsk"
      },
      "execution_count": null,
      "outputs": []
    },
    {
      "cell_type": "code",
      "source": [
        "df_test = pd.read_csv('test.csv')"
      ],
      "metadata": {
        "id": "VHvr3vcrbqPR"
      },
      "execution_count": null,
      "outputs": []
    },
    {
      "cell_type": "markdown",
      "source": [
        "#exploratory data analysis"
      ],
      "metadata": {
        "id": "VnGEHPVKH4Vf"
      }
    },
    {
      "cell_type": "code",
      "source": [
        "df_train.columns"
      ],
      "metadata": {
        "colab": {
          "base_uri": "https://localhost:8080/"
        },
        "id": "eKtxCjLhD2oo",
        "outputId": "b0d0c302-e0be-4b0e-b3e8-0ff90560072d"
      },
      "execution_count": null,
      "outputs": [
        {
          "output_type": "execute_result",
          "data": {
            "text/plain": [
              "Index(['Id', 'MSSubClass', 'MSZoning', 'LotFrontage', 'LotArea', 'Street',\n",
              "       'Alley', 'LotShape', 'LandContour', 'Utilities', 'LotConfig',\n",
              "       'LandSlope', 'Neighborhood', 'Condition1', 'Condition2', 'BldgType',\n",
              "       'HouseStyle', 'OverallQual', 'OverallCond', 'YearBuilt', 'YearRemodAdd',\n",
              "       'RoofStyle', 'RoofMatl', 'Exterior1st', 'Exterior2nd', 'MasVnrType',\n",
              "       'MasVnrArea', 'ExterQual', 'ExterCond', 'Foundation', 'BsmtQual',\n",
              "       'BsmtCond', 'BsmtExposure', 'BsmtFinType1', 'BsmtFinSF1',\n",
              "       'BsmtFinType2', 'BsmtFinSF2', 'BsmtUnfSF', 'TotalBsmtSF', 'Heating',\n",
              "       'HeatingQC', 'CentralAir', 'Electrical', '1stFlrSF', '2ndFlrSF',\n",
              "       'LowQualFinSF', 'GrLivArea', 'BsmtFullBath', 'BsmtHalfBath', 'FullBath',\n",
              "       'HalfBath', 'BedroomAbvGr', 'KitchenAbvGr', 'KitchenQual',\n",
              "       'TotRmsAbvGrd', 'Functional', 'Fireplaces', 'FireplaceQu', 'GarageType',\n",
              "       'GarageYrBlt', 'GarageFinish', 'GarageCars', 'GarageArea', 'GarageQual',\n",
              "       'GarageCond', 'PavedDrive', 'WoodDeckSF', 'OpenPorchSF',\n",
              "       'EnclosedPorch', '3SsnPorch', 'ScreenPorch', 'PoolArea', 'PoolQC',\n",
              "       'Fence', 'MiscFeature', 'MiscVal', 'MoSold', 'YrSold', 'SaleType',\n",
              "       'SaleCondition', 'SalePrice'],\n",
              "      dtype='object')"
            ]
          },
          "metadata": {},
          "execution_count": 152
        }
      ]
    },
    {
      "cell_type": "code",
      "source": [
        "df_train['SalePrice'].describe()"
      ],
      "metadata": {
        "colab": {
          "base_uri": "https://localhost:8080/"
        },
        "id": "m2dVzQvrEeUs",
        "outputId": "3f06a45d-8c50-4ec8-b258-bc7b771e87a4"
      },
      "execution_count": null,
      "outputs": [
        {
          "output_type": "execute_result",
          "data": {
            "text/plain": [
              "count      1460.000000\n",
              "mean     180921.195890\n",
              "std       79442.502883\n",
              "min       34900.000000\n",
              "25%      129975.000000\n",
              "50%      163000.000000\n",
              "75%      214000.000000\n",
              "max      755000.000000\n",
              "Name: SalePrice, dtype: float64"
            ]
          },
          "metadata": {},
          "execution_count": 153
        }
      ]
    },
    {
      "cell_type": "code",
      "source": [
        "# plot the sale price distribution, looks like the data is right skewed \n",
        "sns.distplot(df_train['SalePrice'])"
      ],
      "metadata": {
        "colab": {
          "base_uri": "https://localhost:8080/",
          "height": 362
        },
        "id": "jbcWQzKFElQ_",
        "outputId": "5484903a-920b-409b-a7a4-13a00d619e30"
      },
      "execution_count": null,
      "outputs": [
        {
          "output_type": "stream",
          "name": "stderr",
          "text": [
            "/usr/local/lib/python3.8/dist-packages/seaborn/distributions.py:2619: FutureWarning: `distplot` is a deprecated function and will be removed in a future version. Please adapt your code to use either `displot` (a figure-level function with similar flexibility) or `histplot` (an axes-level function for histograms).\n",
            "  warnings.warn(msg, FutureWarning)\n"
          ]
        },
        {
          "output_type": "execute_result",
          "data": {
            "text/plain": [
              "<matplotlib.axes._subplots.AxesSubplot at 0x7fc9ca4cee50>"
            ]
          },
          "metadata": {},
          "execution_count": 154
        },
        {
          "output_type": "display_data",
          "data": {
            "text/plain": [
              "<Figure size 432x288 with 1 Axes>"
            ],
            "image/png": "[encoded data removed]"
          },
          "metadata": {
            "needs_background": "light"
          }
        }
      ]
    },
    {
      "cell_type": "code",
      "source": [
        "#Check if there are outliers for some of the variables \n",
        "var = 'GrLivArea'\n",
        "data = pd.concat([df_train['SalePrice'],df_train[var]], axis = 1)\n",
        "data.plot.scatter(x=var, y='SalePrice', ylim=(0,800000));"
      ],
      "metadata": {
        "colab": {
          "base_uri": "https://localhost:8080/",
          "height": 283
        },
        "id": "Sc6vsWU5H0y3",
        "outputId": "99b9c65d-7e0c-42f8-efe3-f16d5bc9c2f4"
      },
      "execution_count": null,
      "outputs": [
        {
          "output_type": "display_data",
          "data": {
            "text/plain": [
              "<Figure size 432x288 with 1 Axes>"
            ],
            "image/png": "[encoded data removed]"
          },
          "metadata": {
            "needs_background": "light"
          }
        }
      ]
    },
    {
      "cell_type": "code",
      "source": [
        "var = 'TotalBsmtSF'\n",
        "data = pd.concat([df_train['SalePrice'],df_train[var]], axis = 1)\n",
        "data.plot.scatter(x=var, y='SalePrice', ylim=(0,800000));"
      ],
      "metadata": {
        "colab": {
          "base_uri": "https://localhost:8080/",
          "height": 283
        },
        "id": "P6Qhnue0QGcU",
        "outputId": "12a41556-d282-4cd7-859a-b760f72d0786"
      },
      "execution_count": null,
      "outputs": [
        {
          "output_type": "display_data",
          "data": {
            "text/plain": [
              "<Figure size 432x288 with 1 Axes>"
            ],
            "image/png": "[encoded data removed]"
          },
          "metadata": {
            "needs_background": "light"
          }
        }
      ]
    },
    {
      "cell_type": "code",
      "source": [
        "#Overall material and finish quality\n",
        "var = 'OverallQual'\n",
        "data = pd.concat([df_train['SalePrice'],df_train[var]], axis = 1)\n",
        "f, ax = plt.subplots(figsize = (8,6))\n",
        "fig = sns.boxplot(x=var, y ='SalePrice', data = data)\n",
        "fig.axis(ymin=0, ymax = 800000)"
      ],
      "metadata": {
        "colab": {
          "base_uri": "https://localhost:8080/",
          "height": 409
        },
        "id": "abwRCVEjSEa_",
        "outputId": "4c8d1426-736c-4306-ca6e-3ef6431c9976"
      },
      "execution_count": null,
      "outputs": [
        {
          "output_type": "execute_result",
          "data": {
            "text/plain": [
              "(-0.5, 9.5, 0.0, 800000.0)"
            ]
          },
          "metadata": {},
          "execution_count": 157
        },
        {
          "output_type": "display_data",
          "data": {
            "text/plain": [
              "<Figure size 576x432 with 1 Axes>"
            ],
            "image/png": "[encoded data removed]"
          },
          "metadata": {
            "needs_background": "light"
          }
        }
      ]
    },
    {
      "cell_type": "code",
      "source": [
        "#Years the house was being built\n",
        "var = 'YearBuilt'\n",
        "data = pd.concat([df_train['SalePrice'],df_train[var]], axis = 1)\n",
        "f, ax = plt.subplots(figsize = (16,8))\n",
        "fig = sns.boxplot(x=var, y ='SalePrice', data = data)\n",
        "fig.axis(ymin=0, ymax = 800000) ;\n",
        "plt.xticks(rotation=90)"
      ],
      "metadata": {
        "colab": {
          "base_uri": "https://localhost:8080/",
          "height": 617
        },
        "id": "4lHKQApFTe4H",
        "outputId": "9628dfce-dabf-4720-dc55-5fd6b78d15e1"
      },
      "execution_count": null,
      "outputs": [
        {
          "output_type": "execute_result",
          "data": {
            "text/plain": [
              "(array([  0,   1,   2,   3,   4,   5,   6,   7,   8,   9,  10,  11,  12,\n",
              "         13,  14,  15,  16,  17,  18,  19,  20,  21,  22,  23,  24,  25,\n",
              "         26,  27,  28,  29,  30,  31,  32,  33,  34,  35,  36,  37,  38,\n",
              "         39,  40,  41,  42,  43,  44,  45,  46,  47,  48,  49,  50,  51,\n",
              "         52,  53,  54,  55,  56,  57,  58,  59,  60,  61,  62,  63,  64,\n",
              "         65,  66,  67,  68,  69,  70,  71,  72,  73,  74,  75,  76,  77,\n",
              "         78,  79,  80,  81,  82,  83,  84,  85,  86,  87,  88,  89,  90,\n",
              "         91,  92,  93,  94,  95,  96,  97,  98,  99, 100, 101, 102, 103,\n",
              "        104, 105, 106, 107, 108, 109, 110, 111]),\n",
              " <a list of 112 Text major ticklabel objects>)"
            ]
          },
          "metadata": {},
          "execution_count": 158
        },
        {
          "output_type": "display_data",
          "data": {
            "text/plain": [
              "<Figure size 1152x576 with 1 Axes>"
            ],
            "image/png": "[encoded data removed]"
          },
          "metadata": {
            "needs_background": "light"
          }
        }
      ]
    },
    {
      "cell_type": "code",
      "source": [
        "#examing the correlation among features\n",
        "corrmat = df_train.corr()\n",
        "f, ax = plt.subplots(figsize=(12,9))\n",
        "sns.heatmap(corrmat, square= True)"
      ],
      "metadata": {
        "colab": {
          "base_uri": "https://localhost:8080/",
          "height": 624
        },
        "id": "SSJbh3pPVEG4",
        "outputId": "73d6d996-6a95-4f8b-ba07-adeb444cc26c"
      },
      "execution_count": null,
      "outputs": [
        {
          "output_type": "execute_result",
          "data": {
            "text/plain": [
              "<matplotlib.axes._subplots.AxesSubplot at 0x7fc9c9b8cc40>"
            ]
          },
          "metadata": {},
          "execution_count": 159
        },
        {
          "output_type": "display_data",
          "data": {
            "text/plain": [
              "<Figure size 864x648 with 2 Axes>"
            ],
            "image/png": "[encoded data removed]"
          },
          "metadata": {
            "needs_background": "light"
          }
        }
      ]
    },
    {
      "cell_type": "code",
      "source": [
        "#since we are only interested in what influence saleprice the most\n",
        "#we take a closer look at those variables\n",
        "k = 10\n",
        "cols = corrmat.nlargest(k, 'SalePrice')['SalePrice'].index\n",
        "cm = np.corrcoef(df_train[cols].values.T)\n",
        "hm = sns.heatmap(cm,annot = True,  yticklabels=cols, xticklabels= cols)\n",
        "plt.show()"
      ],
      "metadata": {
        "colab": {
          "base_uri": "https://localhost:8080/",
          "height": 332
        },
        "id": "xpRBgJhsWS5P",
        "outputId": "c233e66c-1a92-466a-c873-c499d41e5b1b"
      },
      "execution_count": null,
      "outputs": [
        {
          "output_type": "display_data",
          "data": {
            "text/plain": [
              "<Figure size 432x288 with 2 Axes>"
            ],
            "image/png": "[encoded data removed]"
          },
          "metadata": {
            "needs_background": "light"
          }
        }
      ]
    },
    {
      "cell_type": "code",
      "source": [
        "#Now we take a look at the missing values\n",
        "total = df_train.isnull().sum().sort_values(ascending=False)\n",
        "percent = (df_train.isnull().sum()/df_train.isnull().count()).sort_values(ascending=False)\n",
        "missing_data = pd.concat([total, percent], axis=1, keys=['Total', 'Percent']) \n",
        "missing_data.head(20)"
      ],
      "metadata": {
        "colab": {
          "base_uri": "https://localhost:8080/",
          "height": 677
        },
        "id": "t-dBDC4UgBAA",
        "outputId": "443f1adb-79ed-404a-ee5e-f9647e612ddb"
      },
      "execution_count": null,
      "outputs": [
        {
          "output_type": "execute_result",
          "data": {
            "text/plain": [
              "              Total   Percent\n",
              "PoolQC         1453  0.995205\n",
              "MiscFeature    1406  0.963014\n",
              "Alley          1369  0.937671\n",
              "Fence          1179  0.807534\n",
              "FireplaceQu     690  0.472603\n",
              "LotFrontage     259  0.177397\n",
              "GarageYrBlt      81  0.055479\n",
              "GarageCond       81  0.055479\n",
              "GarageType       81  0.055479\n",
              "GarageFinish     81  0.055479\n",
              "GarageQual       81  0.055479\n",
              "BsmtFinType2     38  0.026027\n",
              "BsmtExposure     38  0.026027\n",
              "BsmtQual         37  0.025342\n",
              "BsmtCond         37  0.025342\n",
              "BsmtFinType1     37  0.025342\n",
              "MasVnrArea        8  0.005479\n",
              "MasVnrType        8  0.005479\n",
              "Electrical        1  0.000685\n",
              "Id                0  0.000000"
            ],
            "text/html": [
              "\n",
              "  <div id=\"df-428fa6cf-43e1-4f89-809c-1c8c1c735481\">\n",
              "    <div class=\"colab-df-container\">\n",
              "      <div>\n",
              "<style scoped>\n",
              "    .dataframe tbody tr th:only-of-type {\n",
              "        vertical-align: middle;\n",
              "    }\n",
              "\n",
              "    .dataframe tbody tr th {\n",
              "        vertical-align: top;\n",
              "    }\n",
              "\n",
              "    .dataframe thead th {\n",
              "        text-align: right;\n",
              "    }\n",
              "</style>\n",
              "<table border=\"1\" class=\"dataframe\">\n",
              "  <thead>\n",
              "    <tr style=\"text-align: right;\">\n",
              "      <th></th>\n",
              "      <th>Total</th>\n",
              "      <th>Percent</th>\n",
              "    </tr>\n",
              "  </thead>\n",
              "  <tbody>\n",
              "    <tr>\n",
              "      <th>PoolQC</th>\n",
              "      <td>1453</td>\n",
              "      <td>0.995205</td>\n",
              "    </tr>\n",
              "    <tr>\n",
              "      <th>MiscFeature</th>\n",
              "      <td>1406</td>\n",
              "      <td>0.963014</td>\n",
              "    </tr>\n",
              "    <tr>\n",
              "      <th>Alley</th>\n",
              "      <td>1369</td>\n",
              "      <td>0.937671</td>\n",
              "    </tr>\n",
              "    <tr>\n",
              "      <th>Fence</th>\n",
              "      <td>1179</td>\n",
              "      <td>0.807534</td>\n",
              "    </tr>\n",
              "    <tr>\n",
              "      <th>FireplaceQu</th>\n",
              "      <td>690</td>\n",
              "      <td>0.472603</td>\n",
              "    </tr>\n",
              "    <tr>\n",
              "      <th>LotFrontage</th>\n",
              "      <td>259</td>\n",
              "      <td>0.177397</td>\n",
              "    </tr>\n",
              "    <tr>\n",
              "      <th>GarageYrBlt</th>\n",
              "      <td>81</td>\n",
              "      <td>0.055479</td>\n",
              "    </tr>\n",
              "    <tr>\n",
              "      <th>GarageCond</th>\n",
              "      <td>81</td>\n",
              "      <td>0.055479</td>\n",
              "    </tr>\n",
              "    <tr>\n",
              "      <th>GarageType</th>\n",
              "      <td>81</td>\n",
              "      <td>0.055479</td>\n",
              "    </tr>\n",
              "    <tr>\n",
              "      <th>GarageFinish</th>\n",
              "      <td>81</td>\n",
              "      <td>0.055479</td>\n",
              "    </tr>\n",
              "    <tr>\n",
              "      <th>GarageQual</th>\n",
              "      <td>81</td>\n",
              "      <td>0.055479</td>\n",
              "    </tr>\n",
              "    <tr>\n",
              "      <th>BsmtFinType2</th>\n",
              "      <td>38</td>\n",
              "      <td>0.026027</td>\n",
              "    </tr>\n",
              "    <tr>\n",
              "      <th>BsmtExposure</th>\n",
              "      <td>38</td>\n",
              "      <td>0.026027</td>\n",
              "    </tr>\n",
              "    <tr>\n",
              "      <th>BsmtQual</th>\n",
              "      <td>37</td>\n",
              "      <td>0.025342</td>\n",
              "    </tr>\n",
              "    <tr>\n",
              "      <th>BsmtCond</th>\n",
              "      <td>37</td>\n",
              "      <td>0.025342</td>\n",
              "    </tr>\n",
              "    <tr>\n",
              "      <th>BsmtFinType1</th>\n",
              "      <td>37</td>\n",
              "      <td>0.025342</td>\n",
              "    </tr>\n",
              "    <tr>\n",
              "      <th>MasVnrArea</th>\n",
              "      <td>8</td>\n",
              "      <td>0.005479</td>\n",
              "    </tr>\n",
              "    <tr>\n",
              "      <th>MasVnrType</th>\n",
              "      <td>8</td>\n",
              "      <td>0.005479</td>\n",
              "    </tr>\n",
              "    <tr>\n",
              "      <th>Electrical</th>\n",
              "      <td>1</td>\n",
              "      <td>0.000685</td>\n",
              "    </tr>\n",
              "    <tr>\n",
              "      <th>Id</th>\n",
              "      <td>0</td>\n",
              "      <td>0.000000</td>\n",
              "    </tr>\n",
              "  </tbody>\n",
              "</table>\n",
              "</div>\n",
              "      <button class=\"colab-df-convert\" onclick=\"convertToInteractive('df-428fa6cf-43e1-4f89-809c-1c8c1c735481')\"\n",
              "              title=\"Convert this dataframe to an interactive table.\"\n",
              "              style=\"display:none;\">\n",
              "        \n",
              "  <svg xmlns=\"http://www.w3.org/2000/svg\" height=\"24px\"viewBox=\"0 0 24 24\"\n",
              "       width=\"24px\">\n",
              "    <path d=\"M0 0h24v24H0V0z\" fill=\"none\"/>\n",
              "    <path d=\"M18.56 5.44l.94 2.06.94-2.06 2.06-.94-2.06-.94-.94-2.06-.94 2.06-2.06.94zm-11 1L8.5 8.5l.94-2.06 2.06-.94-2.06-.94L8.5 2.5l-.94 2.06-2.06.94zm10 10l.94 2.06.94-2.06 2.06-.94-2.06-.94-.94-2.06-.94 2.06-2.06.94z\"/><path d=\"M17.41 7.96l-1.37-1.37c-.4-.4-.92-.59-1.43-.59-.52 0-1.04.2-1.43.59L10.3 9.45l-7.72 7.72c-.78.78-.78 2.05 0 2.83L4 21.41c.39.39.9.59 1.41.59.51 0 1.02-.2 1.41-.59l7.78-7.78 2.81-2.81c.8-.78.8-2.07 0-2.86zM5.41 20L4 18.59l7.72-7.72 1.47 1.35L5.41 20z\"/>\n",
              "  </svg>\n",
              "      </button>\n",
              "      \n",
              "  <style>\n",
              "    .colab-df-container {\n",
              "      display:flex;\n",
              "      flex-wrap:wrap;\n",
              "      gap: 12px;\n",
              "    }\n",
              "\n",
              "    .colab-df-convert {\n",
              "      background-color: #E8F0FE;\n",
              "      border: none;\n",
              "      border-radius: 50%;\n",
              "      cursor: pointer;\n",
              "      display: none;\n",
              "      fill: #1967D2;\n",
              "      height: 32px;\n",
              "      padding: 0 0 0 0;\n",
              "      width: 32px;\n",
              "    }\n",
              "\n",
              "    .colab-df-convert:hover {\n",
              "      background-color: #E2EBFA;\n",
              "      box-shadow: 0px 1px 2px rgba(60, 64, 67, 0.3), 0px 1px 3px 1px rgba(60, 64, 67, 0.15);\n",
              "      fill: #174EA6;\n",
              "    }\n",
              "\n",
              "    [theme=dark] .colab-df-convert {\n",
              "      background-color: #3B4455;\n",
              "      fill: #D2E3FC;\n",
              "    }\n",
              "\n",
              "    [theme=dark] .colab-df-convert:hover {\n",
              "      background-color: #434B5C;\n",
              "      box-shadow: 0px 1px 3px 1px rgba(0, 0, 0, 0.15);\n",
              "      filter: drop-shadow(0px 1px 2px rgba(0, 0, 0, 0.3));\n",
              "      fill: #FFFFFF;\n",
              "    }\n",
              "  </style>\n",
              "\n",
              "      <script>\n",
              "        const buttonEl =\n",
              "          document.querySelector('#df-428fa6cf-43e1-4f89-809c-1c8c1c735481 button.colab-df-convert');\n",
              "        buttonEl.style.display =\n",
              "          google.colab.kernel.accessAllowed ? 'block' : 'none';\n",
              "\n",
              "        async function convertToInteractive(key) {\n",
              "          const element = document.querySelector('#df-428fa6cf-43e1-4f89-809c-1c8c1c735481');\n",
              "          const dataTable =\n",
              "            await google.colab.kernel.invokeFunction('convertToInteractive',\n",
              "                                                     [key], {});\n",
              "          if (!dataTable) return;\n",
              "\n",
              "          const docLinkHtml = 'Like what you see? Visit the ' +\n",
              "            '<a target=\"_blank\" href=https://colab.research.google.com/notebooks/data_table.ipynb>data table notebook</a>'\n",
              "            + ' to learn more about interactive tables.';\n",
              "          element.innerHTML = '';\n",
              "          dataTable['output_type'] = 'display_data';\n",
              "          await google.colab.output.renderOutput(dataTable, element);\n",
              "          const docLink = document.createElement('div');\n",
              "          docLink.innerHTML = docLinkHtml;\n",
              "          element.appendChild(docLink);\n",
              "        }\n",
              "      </script>\n",
              "    </div>\n",
              "  </div>\n",
              "  "
            ]
          },
          "metadata": {},
          "execution_count": 161
        }
      ]
    },
    {
      "cell_type": "markdown",
      "source": [
        "#data cleaning and processing as well as some Feature Engineering"
      ],
      "metadata": {
        "id": "Ut4V7xE3j6dM"
      }
    },
    {
      "cell_type": "code",
      "source": [
        "import pandas as pd\n",
        "\n",
        "train = pd.read_csv('train.csv')\n",
        "test = pd.read_csv('test.csv') \n",
        "\n",
        "print(train.shape)\n",
        "print(test.shape)"
      ],
      "metadata": {
        "colab": {
          "base_uri": "https://localhost:8080/"
        },
        "id": "iqtw1fM1jqax",
        "outputId": "510492e3-25cf-4604-d5c7-6e0d7509bdd3"
      },
      "execution_count": null,
      "outputs": [
        {
          "output_type": "stream",
          "name": "stdout",
          "text": [
            "(1460, 81)\n",
            "(1459, 80)\n"
          ]
        }
      ]
    },
    {
      "cell_type": "code",
      "source": [
        "#use all features as my features \n",
        "all_features = pd.concat((train.iloc[:,1:-1], test.iloc[:,1:]))"
      ],
      "metadata": {
        "id": "flTQJyQwacRL"
      },
      "execution_count": null,
      "outputs": []
    },
    {
      "cell_type": "code",
      "source": [
        "all_features.shape"
      ],
      "metadata": {
        "colab": {
          "base_uri": "https://localhost:8080/"
        },
        "id": "_02hcSSMgX-9",
        "outputId": "49e92560-7ab0-40c0-f578-75fd808e0fb9"
      },
      "execution_count": null,
      "outputs": [
        {
          "output_type": "execute_result",
          "data": {
            "text/plain": [
              "(2919, 79)"
            ]
          },
          "metadata": {},
          "execution_count": 164
        }
      ]
    },
    {
      "cell_type": "code",
      "source": [
        "all_features.dtypes"
      ],
      "metadata": {
        "colab": {
          "base_uri": "https://localhost:8080/"
        },
        "id": "v-DotJr7hl7k",
        "outputId": "cf6007b3-dd50-4adb-b99e-51d258904364"
      },
      "execution_count": null,
      "outputs": [
        {
          "output_type": "execute_result",
          "data": {
            "text/plain": [
              "MSSubClass         int64\n",
              "MSZoning          object\n",
              "LotFrontage      float64\n",
              "LotArea            int64\n",
              "Street            object\n",
              "                  ...   \n",
              "MiscVal            int64\n",
              "MoSold             int64\n",
              "YrSold             int64\n",
              "SaleType          object\n",
              "SaleCondition     object\n",
              "Length: 79, dtype: object"
            ]
          },
          "metadata": {},
          "execution_count": 165
        }
      ]
    },
    {
      "cell_type": "code",
      "source": [
        "#by nomralizing the features, we can replace all the missing value with its mean\n",
        "#in this case is all 0. An alternative solution would be to standardize the features,\n",
        "#which works better here\n",
        "#numeric_features = all_features.dtypes[all_features.dtypes != 'object'].index\n",
        "#all_features[numeric_features] = all_features[numeric_features].apply(\n",
        "#    lambda x: (x-x.mean())/(x.std()))\n",
        "#all_features[numeric_features] = all_features[numeric_features].fillna(0)"
      ],
      "metadata": {
        "id": "bKMEWPAwhFGZ"
      },
      "execution_count": null,
      "outputs": []
    },
    {
      "cell_type": "code",
      "source": [
        "numeric_features = all_features.dtypes[all_features.dtypes != 'object'].index\n",
        "all_features[numeric_features] = all_features[numeric_features].fillna(0)"
      ],
      "metadata": {
        "id": "c092xodsFQwe"
      },
      "execution_count": null,
      "outputs": []
    },
    {
      "cell_type": "code",
      "source": [
        "#encode discrete values, we also create labels for the missing values \n",
        "all_features = pd.get_dummies(all_features, dummy_na = True)\n",
        "all_features.shape"
      ],
      "metadata": {
        "colab": {
          "base_uri": "https://localhost:8080/"
        },
        "id": "rn2eqVJwkeLc",
        "outputId": "9eaf6522-6bbb-4ea1-cf2a-021cd39531ae"
      },
      "execution_count": null,
      "outputs": [
        {
          "output_type": "execute_result",
          "data": {
            "text/plain": [
              "(2919, 331)"
            ]
          },
          "metadata": {},
          "execution_count": 168
        }
      ]
    },
    {
      "cell_type": "code",
      "source": [
        "#visualize some features distribution\n",
        "all_features['GrLivArea'].hist(bins=30)"
      ],
      "metadata": {
        "colab": {
          "base_uri": "https://localhost:8080/",
          "height": 282
        },
        "id": "P-rWjQBLavgz",
        "outputId": "9c074f0c-e3f8-49a4-8393-2fee6b8baee8"
      },
      "execution_count": null,
      "outputs": [
        {
          "output_type": "execute_result",
          "data": {
            "text/plain": [
              "<matplotlib.axes._subplots.AxesSubplot at 0x7fc9c9a4a100>"
            ]
          },
          "metadata": {},
          "execution_count": 169
        },
        {
          "output_type": "display_data",
          "data": {
            "text/plain": [
              "<Figure size 432x288 with 1 Axes>"
            ],
            "image/png": "[encoded data removed]"
          },
          "metadata": {
            "needs_background": "light"
          }
        }
      ]
    },
    {
      "cell_type": "code",
      "source": [
        "df_train['SalePrice'].hist(bins=30)"
      ],
      "metadata": {
        "colab": {
          "base_uri": "https://localhost:8080/",
          "height": 282
        },
        "id": "FWuvVaR7XRXb",
        "outputId": "200c2667-afa2-43f1-fad3-e3210ca95356"
      },
      "execution_count": null,
      "outputs": [
        {
          "output_type": "execute_result",
          "data": {
            "text/plain": [
              "<matplotlib.axes._subplots.AxesSubplot at 0x7fc9c977d7f0>"
            ]
          },
          "metadata": {},
          "execution_count": 170
        },
        {
          "output_type": "display_data",
          "data": {
            "text/plain": [
              "<Figure size 432x288 with 1 Axes>"
            ],
            "image/png": "[encoded data removed]"
          },
          "metadata": {
            "needs_background": "light"
          }
        }
      ]
    },
    {
      "cell_type": "markdown",
      "source": [
        "looks like our Most of the data is not normaly distributed, which could cause accuracy issue when fitting in our models, therefore, we can use log transformation on the numerical datas"
      ],
      "metadata": {
        "id": "W0sk_ToMasIi"
      }
    },
    {
      "cell_type": "code",
      "source": [
        "log1p_col = ['LotFrontage','LotArea','BsmtFinSF1','BsmtFinSF2','TotalBsmtSF','1stFlrSF','BsmtUnfSF',\n",
        "            '2ndFlrSF','LowQualFinSF','GrLivArea','GarageArea','WoodDeckSF','OpenPorchSF',\n",
        "            'EnclosedPorch','3SsnPorch','ScreenPorch','PoolArea','MiscVal']\n",
        "for col in log1p_col:\n",
        "    all_features[col] = all_features[col].apply(np.log1p)"
      ],
      "metadata": {
        "id": "sfPROvSAG3LG"
      },
      "execution_count": null,
      "outputs": []
    },
    {
      "cell_type": "code",
      "source": [
        "#Numerical columns use log transformation\n",
        "df_train['SalePrice'] = df_train['SalePrice'].apply(np.log1p)"
      ],
      "metadata": {
        "id": "8kI4W2bXbGtr"
      },
      "execution_count": null,
      "outputs": []
    },
    {
      "cell_type": "code",
      "source": [
        "all_features['GrLivArea'].hist(bins=30)"
      ],
      "metadata": {
        "colab": {
          "base_uri": "https://localhost:8080/",
          "height": 282
        },
        "id": "Yr9acG-BG4YN",
        "outputId": "724be3f7-16b7-4b12-a9ff-4c8a833308df"
      },
      "execution_count": null,
      "outputs": [
        {
          "output_type": "execute_result",
          "data": {
            "text/plain": [
              "<matplotlib.axes._subplots.AxesSubplot at 0x7fc9c9891880>"
            ]
          },
          "metadata": {},
          "execution_count": 173
        },
        {
          "output_type": "display_data",
          "data": {
            "text/plain": [
              "<Figure size 432x288 with 1 Axes>"
            ],
            "image/png": "[encoded data removed]"
          },
          "metadata": {
            "needs_background": "light"
          }
        }
      ]
    },
    {
      "cell_type": "code",
      "source": [
        "df_train['SalePrice'].hist(bins=30)"
      ],
      "metadata": {
        "colab": {
          "base_uri": "https://localhost:8080/",
          "height": 282
        },
        "id": "f9O4SsBgiN3N",
        "outputId": "5f352415-0fb6-4753-bd59-ee949d3612a9"
      },
      "execution_count": null,
      "outputs": [
        {
          "output_type": "execute_result",
          "data": {
            "text/plain": [
              "<matplotlib.axes._subplots.AxesSubplot at 0x7fc9c963ebe0>"
            ]
          },
          "metadata": {},
          "execution_count": 174
        },
        {
          "output_type": "display_data",
          "data": {
            "text/plain": [
              "<Figure size 432x288 with 1 Axes>"
            ],
            "image/png": "[encoded data removed]"
          },
          "metadata": {
            "needs_background": "light"
          }
        }
      ]
    },
    {
      "cell_type": "code",
      "source": [
        "ntrain = df_train.shape[0]\n",
        "x_train = all_features[:ntrain]\n",
        "x_test = all_features[ntrain:]\n",
        "y_train = df_train.pop('SalePrice')"
      ],
      "metadata": {
        "id": "pQHbuKfBsA0k"
      },
      "execution_count": null,
      "outputs": []
    },
    {
      "cell_type": "code",
      "source": [
        "#check if there are any null data left\n",
        "null_check = x_train.isnull().sum()\n",
        "null_check[null_check>0]"
      ],
      "metadata": {
        "colab": {
          "base_uri": "https://localhost:8080/"
        },
        "id": "zphRjdOFljwT",
        "outputId": "95235173-0987-48ac-d103-c7f4a2834770"
      },
      "execution_count": null,
      "outputs": [
        {
          "output_type": "execute_result",
          "data": {
            "text/plain": [
              "Series([], dtype: int64)"
            ]
          },
          "metadata": {},
          "execution_count": 176
        }
      ]
    },
    {
      "cell_type": "code",
      "source": [
        "null_check = x_test.isnull().sum()\n",
        "null_check[null_check>0]"
      ],
      "metadata": {
        "colab": {
          "base_uri": "https://localhost:8080/"
        },
        "id": "7242YwF1loX5",
        "outputId": "23331707-80d8-4e9d-9189-b36f166260b7"
      },
      "execution_count": null,
      "outputs": [
        {
          "output_type": "execute_result",
          "data": {
            "text/plain": [
              "Series([], dtype: int64)"
            ]
          },
          "metadata": {},
          "execution_count": 177
        }
      ]
    },
    {
      "cell_type": "markdown",
      "source": [
        "#Machine learning Time.\n"
      ],
      "metadata": {
        "id": "S0E-UBoCCpEG"
      }
    },
    {
      "cell_type": "code",
      "source": [
        "from sklearn import datasets, linear_model\n",
        "from sklearn.metrics import mean_squared_error\n",
        "from sklearn.model_selection import train_test_split\n",
        "from math import sqrt"
      ],
      "metadata": {
        "id": "NfQ0PULr2ieZ"
      },
      "execution_count": null,
      "outputs": []
    },
    {
      "cell_type": "code",
      "source": [
        "#Cross Validation on training sets \n",
        "x_train, x_test, y_train, y_test = train_test_split(x_train,y_train,random_state = 42, test_size=0.2)\n",
        "x_train, x_valid, y_train, y_valid = train_test_split(x_train, y_train, random_state=42, test_size=0.2)"
      ],
      "metadata": {
        "id": "GDvgqV9w8nQA"
      },
      "execution_count": null,
      "outputs": []
    },
    {
      "cell_type": "markdown",
      "source": [
        "Prediction Baseline"
      ],
      "metadata": {
        "id": "-R1yXw3YBgg6"
      }
    },
    {
      "cell_type": "code",
      "source": [
        "#Ridge Regression\n",
        "rg = linear_model.Ridge()\n",
        "rg.fit(x_train, y_train)\n",
        "predict_rg = rg.predict(x_valid)\n",
        "print('Ridge Regression Model:')\n",
        "print('\\t MSE = {:.4f}'.format(sqrt(mean_squared_error(y_valid, predict_rg))))\n",
        "print('\\t Training Score: {:.4f}'.format(rg.score(x_train, y_train),4))\n",
        "print('\\t Validation Score: {:.4f}'.format(rg.score(x_valid, y_valid),4))\n",
        "\n",
        "#Lasso Regression\n",
        "ls = linear_model.Lasso()\n",
        "ls.fit(x_train, y_train)\n",
        "predict_ls = ls.predict(x_valid)\n",
        "print('Lasso Regression Model:')\n",
        "print('\\t MSE = {:.4f}'.format(sqrt(mean_squared_error(y_valid, predict_ls))))\n",
        "print('\\t Training Score: {:.4f}'.format(ls.score(x_train, y_train),4))\n",
        "print('\\t Validation Score: {:.4f}'.format(ls.score(x_valid, y_valid),4))\n",
        "\n",
        "#ElasticNet Regression\n",
        "en = linear_model.ElasticNet()\n",
        "en.fit(x_train, y_train)\n",
        "predict_en = en.predict(x_valid)\n",
        "print('ElasticNet Regression Model:')\n",
        "print('\\t MSE = {:.4f}'.format(sqrt(mean_squared_error(y_valid, predict_en))))\n",
        "print('\\t Training Score: {:.4f}'.format(en.score(x_train, y_train),4))\n",
        "print('\\t Validation Score: {:.4f}'.format(en.score(x_valid, y_valid),4))\n"
      ],
      "metadata": {
        "colab": {
          "base_uri": "https://localhost:8080/"
        },
        "id": "efDM5hi3BdIs",
        "outputId": "1fa0ad39-e600-47d8-b9d1-3aa5ba351ee3"
      },
      "execution_count": null,
      "outputs": [
        {
          "output_type": "stream",
          "name": "stdout",
          "text": [
            "Ridge Regression Model:\n",
            "\t MSE = 0.1341\n",
            "\t Training Score: 0.9505\n",
            "\t Validation Score: 0.8910\n",
            "Lasso Regression Model:\n",
            "\t MSE = 0.2795\n",
            "\t Training Score: 0.4973\n",
            "\t Validation Score: 0.5263\n",
            "ElasticNet Regression Model:\n",
            "\t MSE = 0.2722\n",
            "\t Training Score: 0.5126\n",
            "\t Validation Score: 0.5507\n"
          ]
        }
      ]
    },
    {
      "cell_type": "markdown",
      "source": [
        "Once we get the baseline Model, we can further tune the models and go back to feature engineering to see if there are anything we can change to improve the prediction. It seems like Lasso and ElasticNet are underfitting and Ridge are doing Pretty well here!"
      ],
      "metadata": {
        "id": "kw2ELwsdJEkz"
      }
    },
    {
      "cell_type": "markdown",
      "source": [
        "#Tunning Ridge"
      ],
      "metadata": {
        "id": "vgbSdOmgJYn8"
      }
    },
    {
      "cell_type": "code",
      "source": [
        "cv_x_data = pd.concat([x_train, x_valid])\n",
        "cv_y_data = pd.concat([y_train, y_valid])"
      ],
      "metadata": {
        "id": "_oaIjaWGJoP9"
      },
      "execution_count": null,
      "outputs": []
    },
    {
      "cell_type": "code",
      "source": [
        "from sklearn.model_selection import GridSearchCV"
      ],
      "metadata": {
        "id": "Q0GM3-ERJ5x6"
      },
      "execution_count": null,
      "outputs": []
    },
    {
      "cell_type": "code",
      "source": [
        "param_grid_R = {'alpha':[0.001,0.01,0.1,1,10,100]}\n",
        "grid_search_R = GridSearchCV(linear_model.Ridge(), param_grid_R, cv=5)"
      ],
      "metadata": {
        "id": "SI5-iRPyKFQE"
      },
      "execution_count": null,
      "outputs": []
    },
    {
      "cell_type": "code",
      "source": [
        "grid_search_R.fit(cv_x_data, cv_y_data)\n",
        "print('Best parameter of Ridge is:', grid_search_R.best_params_)\n",
        "print('Best score of cv is: {:.4f}'.format(grid_search_R.best_score_))"
      ],
      "metadata": {
        "colab": {
          "base_uri": "https://localhost:8080/"
        },
        "id": "IvN6y9aZKHhq",
        "outputId": "58c053ee-fe82-46f4-f8dc-fcce04d45a00"
      },
      "execution_count": null,
      "outputs": [
        {
          "output_type": "stream",
          "name": "stdout",
          "text": [
            "Best parameter of Ridge is: {'alpha': 10}\n",
            "Best score of cv is: 0.8930\n"
          ]
        }
      ]
    },
    {
      "cell_type": "code",
      "source": [
        "rg2 = linear_model.Ridge(alpha=10)\n",
        "rg2.fit(cv_x_data, cv_y_data)\n",
        "predictR2 = rg2.predict(x_test)\n",
        "\n",
        "print('Ridge Regression Model:')\n",
        "print('MSE =', sqrt(mean_squared_error(y_test, predictR2)))\n",
        "print('Training Score: {:.4f}'.format(rg2.score(cv_x_data, cv_y_data)))\n",
        "print('Testing Score: {:.4f}'.format(rg2.score(x_test, y_test)))"
      ],
      "metadata": {
        "colab": {
          "base_uri": "https://localhost:8080/"
        },
        "id": "MAv17LQPKM8R",
        "outputId": "243d08c7-430d-4dca-a7e6-2817d683b688"
      },
      "execution_count": null,
      "outputs": [
        {
          "output_type": "stream",
          "name": "stdout",
          "text": [
            "Ridge Regression Model:\n",
            "MSE = 0.13067080341368273\n",
            "Training Score: 0.9289\n",
            "Testing Score: 0.9085\n"
          ]
        }
      ]
    },
    {
      "cell_type": "markdown",
      "source": [
        "#Tunning Lasso"
      ],
      "metadata": {
        "id": "YchNi_yOMvnr"
      }
    },
    {
      "cell_type": "code",
      "source": [
        "param_grid_L = {'alpha':[0.001,0.01,0.1,1,10,100]}\n",
        "grid_search_L = GridSearchCV(linear_model.Lasso(),param_grid_L,cv=5)\n",
        "grid_search_L.fit(cv_x_data, cv_y_data)\n",
        "print('Best parameter of Lasso is:', grid_search_L.best_params_)\n",
        "print('Best score of cv is:', grid_search_L.best_score_)"
      ],
      "metadata": {
        "colab": {
          "base_uri": "https://localhost:8080/"
        },
        "id": "Q63hj-i5Mzzr",
        "outputId": "45cb6c5d-2195-404e-881e-847a6ca97f6e"
      },
      "execution_count": null,
      "outputs": [
        {
          "output_type": "stream",
          "name": "stdout",
          "text": [
            "Best parameter of Lasso is: {'alpha': 0.001}\n",
            "Best score of cv is: 0.8981442759723315\n"
          ]
        }
      ]
    },
    {
      "cell_type": "code",
      "source": [
        "ls2 = linear_model.Lasso(alpha=0.001)\n",
        "ls2.fit(cv_x_data, cv_y_data)\n",
        "predictL3 = ls2.predict(x_test)\n",
        "\n",
        "print('Lasso Regression Model:\\n')\n",
        "print('MSE =', sqrt(mean_squared_error(y_test, predictL3)))\n",
        "print('Training Score: {:.4f}'.format(ls2.score(cv_x_data, cv_y_data)))\n",
        "print('Testing Score: {:.4f}'.format(ls2.score(x_test, y_test)))"
      ],
      "metadata": {
        "colab": {
          "base_uri": "https://localhost:8080/"
        },
        "id": "CYtcBc5TM8Oh",
        "outputId": "ab5c8b3c-306f-4315-d2b4-78d7567233c9"
      },
      "execution_count": null,
      "outputs": [
        {
          "output_type": "stream",
          "name": "stdout",
          "text": [
            "Lasso Regression Model:\n",
            "\n",
            "MSE = 0.13205856583553696\n",
            "Training Score: 0.9156\n",
            "Testing Score: 0.9065\n"
          ]
        }
      ]
    },
    {
      "cell_type": "markdown",
      "source": [
        "#Tunning ElasticNet"
      ],
      "metadata": {
        "id": "botJJijFNJXf"
      }
    },
    {
      "cell_type": "code",
      "source": [
        "param_grid_E = {'alpha':[0.001,0.01,0.1,1,10,100],\n",
        "               'l1_ratio':[x/100 for x in range(1,100,100)]}\n",
        "\n",
        "grid_search_E = GridSearchCV(linear_model.ElasticNet(),param_grid_E,cv=5)\n",
        "grid_search_E.fit(cv_x_data, cv_y_data)\n",
        "print('Best parameter of ElasticNet is:', grid_search_E.best_params_)\n",
        "print('Best score of cv is:', grid_search_E.best_score_)"
      ],
      "metadata": {
        "colab": {
          "base_uri": "https://localhost:8080/"
        },
        "id": "SnZT9p4mNLXH",
        "outputId": "08e32c5c-3c6a-486e-90ee-52c7aa487ae2"
      },
      "execution_count": null,
      "outputs": [
        {
          "output_type": "stream",
          "name": "stderr",
          "text": [
            "/usr/local/lib/python3.8/dist-packages/sklearn/linear_model/_coordinate_descent.py:647: ConvergenceWarning: Objective did not converge. You might want to increase the number of iterations, check the scale of the features or consider increasing regularisation. Duality gap: 3.425e+00, tolerance: 1.413e-02\n",
            "  model = cd_fast.enet_coordinate_descent(\n",
            "/usr/local/lib/python3.8/dist-packages/sklearn/linear_model/_coordinate_descent.py:647: ConvergenceWarning: Objective did not converge. You might want to increase the number of iterations, check the scale of the features or consider increasing regularisation. Duality gap: 3.250e+00, tolerance: 1.386e-02\n",
            "  model = cd_fast.enet_coordinate_descent(\n",
            "/usr/local/lib/python3.8/dist-packages/sklearn/linear_model/_coordinate_descent.py:647: ConvergenceWarning: Objective did not converge. You might want to increase the number of iterations, check the scale of the features or consider increasing regularisation. Duality gap: 8.194e-01, tolerance: 1.395e-02\n",
            "  model = cd_fast.enet_coordinate_descent(\n"
          ]
        },
        {
          "output_type": "stream",
          "name": "stdout",
          "text": [
            "Best parameter of ElasticNet is: {'alpha': 0.01, 'l1_ratio': 0.01}\n",
            "Best score of cv is: 0.8938678311948081\n"
          ]
        }
      ]
    },
    {
      "cell_type": "code",
      "source": [
        "en2 = linear_model.ElasticNet(alpha=0.01,l1_ratio=0.01)\n",
        "en2.fit(cv_x_data, cv_y_data)\n",
        "predictE4 = en2.predict(x_test)\n",
        "\n",
        "print('ElasticNet Regression Model:\\n')\n",
        "print('MSE =', sqrt(mean_squared_error(y_test, predictE4)))\n",
        "print('Training Score: {:.4f}'.format(en2.score(cv_x_data, cv_y_data)))\n",
        "print('Testing Score: {:.4f}'.format(en2.score(x_test, y_test)))"
      ],
      "metadata": {
        "colab": {
          "base_uri": "https://localhost:8080/"
        },
        "id": "X9HewbFtNSwm",
        "outputId": "413ce6f7-b7cd-4c3e-c66a-fa9128b2f983"
      },
      "execution_count": null,
      "outputs": [
        {
          "output_type": "stream",
          "name": "stdout",
          "text": [
            "ElasticNet Regression Model:\n",
            "\n",
            "MSE = 0.13086891875464968\n",
            "Training Score: 0.9253\n",
            "Testing Score: 0.9082\n"
          ]
        }
      ]
    },
    {
      "cell_type": "markdown",
      "source": [
        "After tunning the parameters, the result looks significantly better. Now we can fit the model on the actual Test data and use XGboost to assign weighs to the three output"
      ],
      "metadata": {
        "id": "1nrY8SVVNXyh"
      }
    },
    {
      "cell_type": "code",
      "source": [
        "df_train = pd.read_csv('train.csv')"
      ],
      "metadata": {
        "id": "IhpCDup4QHar"
      },
      "execution_count": null,
      "outputs": []
    },
    {
      "cell_type": "code",
      "source": [
        "df_test = pd.read_csv('test.csv')"
      ],
      "metadata": {
        "id": "3Ddh7eQITBkn"
      },
      "execution_count": null,
      "outputs": []
    },
    {
      "cell_type": "code",
      "source": [
        "ntrain = df_train.shape[0]\n",
        "x_train = all_features[:ntrain]\n",
        "x_test = all_features[ntrain:]\n",
        "y_train = df_train.pop('SalePrice')"
      ],
      "metadata": {
        "id": "sB8X37fbPzgm"
      },
      "execution_count": null,
      "outputs": []
    },
    {
      "cell_type": "code",
      "source": [
        "y_train = y_train.apply(np.log1p)"
      ],
      "metadata": {
        "id": "2B9k0GByfU6p"
      },
      "execution_count": null,
      "outputs": []
    },
    {
      "cell_type": "markdown",
      "source": [
        "#Fitting Ridge"
      ],
      "metadata": {
        "id": "UPI8mOE8SI9Z"
      }
    },
    {
      "cell_type": "code",
      "source": [
        "rg2 = linear_model.Ridge(alpha=10)\n",
        "rg2.fit(x_train, y_train)\n",
        "predictR2 = rg2.predict(x_train)\n",
        "\n",
        "print('Ridge Regression Model:')\n",
        "print('MSE =', sqrt(mean_squared_error(y_train, predictR2)))"
      ],
      "metadata": {
        "colab": {
          "base_uri": "https://localhost:8080/"
        },
        "id": "KfuFiuz4SMl3",
        "outputId": "74e4e631-2e54-46ca-ec8c-02655aec836f"
      },
      "execution_count": null,
      "outputs": [
        {
          "output_type": "stream",
          "name": "stdout",
          "text": [
            "Ridge Regression Model:\n",
            "MSE = 0.105302206090567\n"
          ]
        }
      ]
    },
    {
      "cell_type": "markdown",
      "source": [
        "#Fit Lasso"
      ],
      "metadata": {
        "id": "TDZ9-QJOVwAc"
      }
    },
    {
      "cell_type": "code",
      "source": [
        "ls2 = linear_model.Lasso(alpha=0.001)\n",
        "ls2.fit(x_train, y_train)\n",
        "predictL3 = ls2.predict(x_train)\n",
        "\n",
        "print('Lasso Regression Model:\\n')\n",
        "print('MSE =', sqrt(mean_squared_error(y_train, predictL3)))"
      ],
      "metadata": {
        "colab": {
          "base_uri": "https://localhost:8080/"
        },
        "id": "UVEO5c18Vx5S",
        "outputId": "2cff2809-2a33-450a-b074-b69d10790028"
      },
      "execution_count": null,
      "outputs": [
        {
          "output_type": "stream",
          "name": "stdout",
          "text": [
            "Lasso Regression Model:\n",
            "\n",
            "MSE = 0.11485984739106972\n"
          ]
        }
      ]
    },
    {
      "cell_type": "markdown",
      "source": [
        "#Fir ElasticNet"
      ],
      "metadata": {
        "id": "IsCg5gxjV2dS"
      }
    },
    {
      "cell_type": "code",
      "source": [
        "en2 = linear_model.ElasticNet(alpha=0.01,l1_ratio=0.01)\n",
        "en2.fit(x_train, y_train)\n",
        "predictE4 = en2.predict(x_train)\n",
        "\n",
        "print('ElasticNet Regression Model:\\n')\n",
        "print('MSE =', sqrt(mean_squared_error(y_train, predictE4)))"
      ],
      "metadata": {
        "colab": {
          "base_uri": "https://localhost:8080/"
        },
        "id": "2KyRbuUWV4dH",
        "outputId": "c6a5f580-916b-4c89-bb51-39988ec552ca"
      },
      "execution_count": null,
      "outputs": [
        {
          "output_type": "stream",
          "name": "stdout",
          "text": [
            "ElasticNet Regression Model:\n",
            "\n",
            "MSE = 0.10904930084217263\n"
          ]
        }
      ]
    },
    {
      "cell_type": "code",
      "source": [
        "step1_target = pd.DataFrame({'Lasso':ls2.predict(x_train),\n",
        "                            'Ridge':rg2.predict(x_train),\n",
        "                            'ElasticNet':en2.predict(x_train)})"
      ],
      "metadata": {
        "id": "7MQt0DLtYMqi"
      },
      "execution_count": null,
      "outputs": []
    },
    {
      "cell_type": "markdown",
      "source": [
        "#Model Ensembling"
      ],
      "metadata": {
        "id": "wQ3ngGzMbWC0"
      }
    },
    {
      "cell_type": "code",
      "source": [
        "import xgboost as xgb"
      ],
      "metadata": {
        "id": "IaBGptaBdiKJ"
      },
      "execution_count": null,
      "outputs": []
    },
    {
      "cell_type": "code",
      "source": [
        "#As we can see, the MSE decreased after apply xgboost\n",
        "xgbr = xgb.XGBRegressor(colsample_bytree=0.5,learning_rate=0.1,max_depth=5,min_child_weight=1,subsample=0.6)\n",
        "xgbr.fit(step1_target, y_train)\n",
        "predict_xgb = xgbr.predict(step1_target)\n",
        "\n",
        "print('XGBoosting Regression Model:\\n')\n",
        "print('MSE =', sqrt(mean_squared_error(y_train, predict_xgb)))\n"
      ],
      "metadata": {
        "colab": {
          "base_uri": "https://localhost:8080/"
        },
        "id": "Df6Z8m9PdPVY",
        "outputId": "63658d2f-9d67-4349-d93c-cbfe63225cad"
      },
      "execution_count": null,
      "outputs": [
        {
          "output_type": "stream",
          "name": "stdout",
          "text": [
            "[22:39:40] WARNING: /workspace/src/objective/regression_obj.cu:152: reg:linear is now deprecated in favor of reg:squarederror.\n",
            "XGBoosting Regression Model:\n",
            "\n",
            "MSE = 0.08411314316513686\n"
          ]
        }
      ]
    },
    {
      "cell_type": "markdown",
      "source": [
        "#Final Prediction"
      ],
      "metadata": {
        "id": "rirzMLm7d7It"
      }
    },
    {
      "cell_type": "code",
      "source": [
        "df_test = pd.read_csv('test.csv')"
      ],
      "metadata": {
        "id": "Ku-SMgI4eEls"
      },
      "execution_count": null,
      "outputs": []
    },
    {
      "cell_type": "code",
      "source": [
        "df_test['Id']"
      ],
      "metadata": {
        "colab": {
          "base_uri": "https://localhost:8080/"
        },
        "id": "WMsWhJ5oeIua",
        "outputId": "9e93a8c2-709b-4b02-ae76-37ab4445e786"
      },
      "execution_count": null,
      "outputs": [
        {
          "output_type": "execute_result",
          "data": {
            "text/plain": [
              "0       1461\n",
              "1       1462\n",
              "2       1463\n",
              "3       1464\n",
              "4       1465\n",
              "        ... \n",
              "1454    2915\n",
              "1455    2916\n",
              "1456    2917\n",
              "1457    2918\n",
              "1458    2919\n",
              "Name: Id, Length: 1459, dtype: int64"
            ]
          },
          "metadata": {},
          "execution_count": 241
        }
      ]
    },
    {
      "cell_type": "code",
      "source": [
        "test_data = all_features[ntrain:]\n",
        "test_id = df_test['Id']"
      ],
      "metadata": {
        "id": "t9-izFG6dl9o"
      },
      "execution_count": null,
      "outputs": []
    },
    {
      "cell_type": "code",
      "source": [
        "null_check = test_data.isnull().sum()\n",
        "null_check[null_check>0]"
      ],
      "metadata": {
        "colab": {
          "base_uri": "https://localhost:8080/"
        },
        "id": "AI8_tflpesnI",
        "outputId": "02448f26-5903-456c-82d3-a6227f155028"
      },
      "execution_count": null,
      "outputs": [
        {
          "output_type": "execute_result",
          "data": {
            "text/plain": [
              "Series([], dtype: int64)"
            ]
          },
          "metadata": {},
          "execution_count": 243
        }
      ]
    },
    {
      "cell_type": "code",
      "source": [
        "test_step1_target = pd.DataFrame({'Lasso':ls2.predict(test_data),\n",
        "                            'Ridge':rg2.predict(test_data),\n",
        "                            'ElasticNet':en2.predict(test_data)})"
      ],
      "metadata": {
        "id": "f8r3bH7set7R"
      },
      "execution_count": null,
      "outputs": []
    },
    {
      "cell_type": "code",
      "source": [
        "predict_price = xgbr.predict(test_step1_target)\n",
        "predict_price = np.expm1(predict_price)"
      ],
      "metadata": {
        "id": "QVxpQc6xey4h"
      },
      "execution_count": null,
      "outputs": []
    },
    {
      "cell_type": "code",
      "source": [
        "submit = pd.DataFrame({'Id':test_id,'SalePrice':predict_price})\n",
        "submit.to_csv('submit.csv', index=False)"
      ],
      "metadata": {
        "id": "Ti3DjwaEfwz5"
      },
      "execution_count": null,
      "outputs": []
    }
  ]
}